{
 "cells": [
  {
   "cell_type": "markdown",
   "metadata": {},
   "source": [
    "Data Science Fundamentals: Python |\n",
    "[Table of Contents](../index.ipynb)\n",
    "- - - \n",
    "<!--NAVIGATION-->\n",
    "Module 8. | [Inheritance & Methods](./01_oop_inheritance.ipynb) | [Sequences, Iterables, Generators Revisited](02_revisited.ipynb) | [Super()](./03_super().ipynb) | **[Exercises](./04_inheritance_methods_exercises.ipynb)** | [Answers](./05_inheritance_methods_answers.ipynb)"
   ]
  },
  {
   "cell_type": "markdown",
   "metadata": {},
   "source": [
    "# Module 8: Practice Exercises"
   ]
  },
  {
   "cell_type": "markdown",
   "metadata": {},
   "source": [
    "## Exercise 1. "
   ]
  },
  {
   "cell_type": "markdown",
   "metadata": {},
   "source": [
    "You are given two classes, Person and Student, where Person is the base class and Student is the derived class. Completed code for Person and a declaration for Student are provided for you in the editor. Observe that Student inherits all the properties of Person.\n",
    "\n",
    "Complete the Student class by writing the following:\n",
    "\n",
    "A Student class constructor, which has 4 parameters:\n",
    "- A string, firstName\n",
    "- A string, lastName\n",
    "- An integer, id\n",
    "An integer array (or vector) of test scores, scores\n",
    "\n",
    "A char **calculate()** method that calculates a Student object's average and returns the grade character representative of their calculated average:\n",
    "```\n",
    "A | 90-100\n",
    "B | 80-89\n",
    "C | 70-79\n",
    "D | 60-69\n",
    "F | <60\n",
    "```"
   ]
  },
  {
   "cell_type": "code",
   "execution_count": 21,
   "metadata": {
    "scrolled": false
   },
   "outputs": [
    {
     "name": "stdout",
     "output_type": "stream",
     "text": [
      "First name: N\n",
      "Last name: L\n",
      "Student ID: 1819\n",
      "Enter a list of grades separated by space: 70 80 70 90\n",
      "C 77.5 %\n"
     ]
    }
   ],
   "source": [
    "class Person:\n",
    "   #Creating a parent class of \"Person\"\n",
    "    def __init__(self,fname,lname):\n",
    "        self.fname = fname\n",
    "        self.lname = lname\n",
    "        \n",
    "class Student(Person):\n",
    "    #Creating a subclass of Person called \"Student\"\n",
    "    def __init__(self, fname, lname, student_id):\n",
    "        self.id = int(student_id)\n",
    "        Person.__init__(self, fname, lname)\n",
    "        \n",
    "    def calculate(self,list):\n",
    "        #Summing then averaging the grades from list\n",
    "        grade_val = 0\n",
    "        for i in list: \n",
    "            grade_val = grade_val + i\n",
    "        grade_avg = grade_val/len(list)\n",
    "        if 90<=grade_avg<=100:\n",
    "            print(\"A\", grade_avg,\"%\")\n",
    "        elif 80<=grade_avg<=89:\n",
    "            print(\"B\", grade_avg,\"%\")\n",
    "        elif 70<=grade_avg<=79:\n",
    "            print(\"C\", grade_avg,\"%\")\n",
    "        elif 60<=grade_avg<=69:\n",
    "            print(\"D\")\n",
    "        else:\n",
    "            print(\"F\", grade_avg,\"%\")\n",
    "\n",
    "                    \n",
    "person1 = Student(str(input(\"First name: \")),str(input(\"Last name: \")), int(input(\"Student ID: \")))\n",
    "grades = input(\"Enter a list of grades separated by space: \")\n",
    "grades = list(map(int, grades.split()))\n",
    "person1.calculate(grades)"
   ]
  },
  {
   "cell_type": "code",
   "execution_count": null,
   "metadata": {},
   "outputs": [],
   "source": []
  },
  {
   "cell_type": "markdown",
   "metadata": {},
   "source": [
    "- - - \n",
    "<!--NAVIGATION-->\n",
    "Module 8. | [Inheritance & Methods](./01_oop_inheritance.ipynb) | [Sequences, Iterables, Generators Revisited](02_revisited.ipynb) | [Super()](./03_super().ipynb) | **[Exercises](./04_inheritance_methods_exercises.ipynb)** | [Answers](./05_inheritance_methods_answers.ipynb)\n",
    "[Top](#)"
   ]
  },
  {
   "cell_type": "markdown",
   "metadata": {},
   "source": [
    "- - -\n",
    "\n",
    "Copyright © 2020 Qualex Consulting Services Incorporated."
   ]
  }
 ],
 "metadata": {
  "kernelspec": {
   "display_name": "Python 3",
   "language": "python",
   "name": "python3"
  },
  "language_info": {
   "codemirror_mode": {
    "name": "ipython",
    "version": 3
   },
   "file_extension": ".py",
   "mimetype": "text/x-python",
   "name": "python",
   "nbconvert_exporter": "python",
   "pygments_lexer": "ipython3",
   "version": "3.8.8"
  }
 },
 "nbformat": 4,
 "nbformat_minor": 4
}
