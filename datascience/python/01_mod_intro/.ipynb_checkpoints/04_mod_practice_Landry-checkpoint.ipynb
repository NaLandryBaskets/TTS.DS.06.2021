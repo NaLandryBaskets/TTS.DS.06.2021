{
 "cells": [
  {
   "cell_type": "markdown",
   "metadata": {},
   "source": [
    "Data Science Fundamentals: Python |\n",
    "[Table of Contents](../index.ipynb)\n",
    "- - - \n",
    "<!--NAVIGATION-->\n",
    "Module 1. [Basic Python Syntax](./01_mod_python_syntax.ipynb) | [Variables and Objects](./02_python_variables_objects.ipynb) | [Operators](./03_python_operators.ipynb) | **[Exercises](./04_mod_practice.ipynb)**"
   ]
  },
  {
   "cell_type": "markdown",
   "metadata": {},
   "source": [
    "# Module 1: Practice Exercises\n",
    "Please remember to [Submit this file to Titus](https://titus.techtalentsouth.com/mod/assign/view.php?id=44970)"
   ]
  },
  {
   "cell_type": "markdown",
   "metadata": {},
   "source": [
    "# Exercise 1: Accept the user's first and last name and print them in reverse order with a space between them."
   ]
  },
  {
   "cell_type": "code",
   "execution_count": 5,
   "metadata": {},
   "outputs": [
    {
     "name": "stdout",
     "output_type": "stream",
     "text": [
      "Please type your first and last name with a space between here: Tom Jones\n",
      "Jones Tom\n"
     ]
    }
   ],
   "source": [
    "### Accept user's first and last name \n",
    "firstname, lastname = input(\"Please type your first and last name with a space between here: \").split(\" \")\n",
    "\n",
    "### Print last before first name\n",
    "print(lastname, firstname)"
   ]
  },
  {
   "cell_type": "markdown",
   "metadata": {},
   "source": [
    "### Exercise 2. Accept an integer (n) and compute the value of n+nn+nnn"
   ]
  },
  {
   "cell_type": "code",
   "execution_count": 2,
   "metadata": {},
   "outputs": [
    {
     "name": "stdout",
     "output_type": "stream",
     "text": [
      "Please enter a number between 1 and 9: 2\n",
      "246\n"
     ]
    }
   ],
   "source": [
    "### Accept an interger \"n\" from user\n",
    "n = int(input(\"Please enter a number between 1 and 9: \"))\n",
    "\n",
    "### Compute input value for n as n+nn+nnn\n",
    "print(123*n)"
   ]
  },
  {
   "cell_type": "markdown",
   "metadata": {},
   "source": [
    "### Exercise 3. Ask the user \"What country are you from?\" then print the following statement: \"I have heard that [input] is a beautiful country!\""
   ]
  },
  {
   "cell_type": "code",
   "execution_count": 3,
   "metadata": {},
   "outputs": [
    {
     "name": "stdout",
     "output_type": "stream",
     "text": [
      "What country are you from?: Brazil\n",
      "I have heard that Brazil is a beautiful country!\n"
     ]
    }
   ],
   "source": [
    "### Ask the user \"What country are you from?\"\n",
    "country = (input(\"What country are you from?: \"))\n",
    "\n",
    "### Print the statement \"I have heard that [input] is a beautiful country!\"\n",
    "print(\"I have heard that \" + country + \" is a beautiful country!\")"
   ]
  },
  {
   "cell_type": "markdown",
   "metadata": {},
   "source": [
    "### Exercise 4. What is the output of the following python code?"
   ]
  },
  {
   "cell_type": "raw",
   "metadata": {},
   "source": [
    "x = 10\n",
    "y = 50\n",
    "if (x ** 2 > 100 and y < 100):\n",
    "    print(x, y)"
   ]
  },
  {
   "cell_type": "code",
   "execution_count": 12,
   "metadata": {},
   "outputs": [],
   "source": [
    "# set x value\n",
    "x = 10\n",
    "\n",
    "# set y value\n",
    "y = 50\n",
    "\n",
    "# create if statement for x**2>100 and y<100\n",
    "if (x ** 2 > 100 and y < 100):\n",
    "    \n",
    "# print x and y    \n",
    "    print(x, y)"
   ]
  },
  {
   "cell_type": "markdown",
   "metadata": {},
   "source": [
    "The output is nothing. `X**2` is not greater than 100. The if statement is false"
   ]
  },
  {
   "cell_type": "markdown",
   "metadata": {},
   "source": [
    "### Exercise 5: What is the output of the following addition `+` operator, and why does this code chunk execute this way??"
   ]
  },
  {
   "cell_type": "raw",
   "metadata": {},
   "source": [
    "a = [10, 20]\n",
    "b = a\n",
    "b += [30, 40]\n",
    "print(a)\n",
    "print(b)"
   ]
  },
  {
   "cell_type": "code",
   "execution_count": 8,
   "metadata": {},
   "outputs": [
    {
     "name": "stdout",
     "output_type": "stream",
     "text": [
      "[10, 20, 30, 40]\n",
      "[10, 20, 30, 40]\n"
     ]
    }
   ],
   "source": [
    "#Print your answer here\n",
    "a = [10, 20]\n",
    "\n",
    "#Set the variable \"b\" to point to variable \"a\"\n",
    "b = a\n",
    "\n",
    "#add the additional values of \"30\" and \"40\" to b\n",
    "b += [30, 40]\n",
    "\n",
    "#print a\n",
    "print(a)\n",
    "\n",
    "#print b\n",
    "print(b)"
   ]
  },
  {
   "cell_type": "markdown",
   "metadata": {},
   "source": [
    "Both a and b are variable names that point to lists. The operator \"+=\" is an addition assinment operator and in this case it's adding values to the lists b and thusly a, as members of the list in the order they were presented. "
   ]
  },
  {
   "cell_type": "markdown",
   "metadata": {},
   "source": [
    "### Exercise 6. What is the output of the following code, and what operator is being used here?"
   ]
  },
  {
   "cell_type": "raw",
   "metadata": {},
   "source": [
    "print(2%6)"
   ]
  },
  {
   "cell_type": "code",
   "execution_count": 9,
   "metadata": {},
   "outputs": [
    {
     "name": "stdout",
     "output_type": "stream",
     "text": [
      "2\n"
     ]
    }
   ],
   "source": [
    "#Print(2%6)\n",
    "print(2%6)"
   ]
  },
  {
   "cell_type": "markdown",
   "metadata": {},
   "source": [
    "This operator is the modulus operator. This operator takes a x and a y value and divides x by y, only presenting the remainder. 2 is not divisible by 6 without reducing it to a demical so the remainder is 2."
   ]
  },
  {
   "cell_type": "markdown",
   "metadata": {},
   "source": [
    "### Exercise 7: What is the output of the following code, and what arithmetic operators are used in this code?"
   ]
  },
  {
   "cell_type": "raw",
   "metadata": {},
   "source": [
    "print(2 * 3 ** 3 * 4)"
   ]
  },
  {
   "cell_type": "code",
   "execution_count": 10,
   "metadata": {},
   "outputs": [
    {
     "name": "stdout",
     "output_type": "stream",
     "text": [
      "216\n"
     ]
    }
   ],
   "source": [
    "#print(2 * 3 ** 3 * 4)\n",
    "print(2 * 3 ** 3 * 4)"
   ]
  },
  {
   "cell_type": "markdown",
   "metadata": {},
   "source": [
    "The output is 216. In this code, the opertators of multiplaction and exponentiation are used."
   ]
  },
  {
   "cell_type": "markdown",
   "metadata": {},
   "source": [
    "### Exercise 8: What is a text editor?"
   ]
  },
  {
   "cell_type": "markdown",
   "metadata": {},
   "source": [
    "Text editors are programs that allow users to type, edit, and save files as plain text files. Different from a word processor as there is no formatting with a text editor "
   ]
  },
  {
   "cell_type": "markdown",
   "metadata": {},
   "source": [
    "### Exercise 9: What is python?"
   ]
  },
  {
   "cell_type": "markdown",
   "metadata": {},
   "source": [
    "Python is a object-oriented, dynamically typed, psuedo-code language. "
   ]
  },
  {
   "cell_type": "markdown",
   "metadata": {},
   "source": [
    "### Exercise 10: What is jupyter notebook, what type of python environment is it, and what alternatives are there to jupyter notebook?"
   ]
  },
  {
   "cell_type": "markdown",
   "metadata": {},
   "source": [
    "Jupyter Notebooks is a web-based application with an IPython environment for coding in python. PyCharm, Rodeo IDE, and Codenvy are a few examples of alternatives for Jupyter Notebooks."
   ]
  },
  {
   "cell_type": "markdown",
   "metadata": {},
   "source": [
    "### Please remember to submit this file to Titus!"
   ]
  },
  {
   "cell_type": "markdown",
   "metadata": {},
   "source": [
    "<!--NAVIGATION-->\n",
    "Module 1. [Basic Python Syntax](./01_mod_python_syntax.ipynb) | [Variables and Objects](./02_python_variables_objects.ipynb) | [Operators](./03_python_operators.ipynb) | **[Practice](./04_mod_practice.ipynb)**\n",
    "<br>\n",
    "[top](#)"
   ]
  },
  {
   "cell_type": "markdown",
   "metadata": {},
   "source": [
    "- - -\n",
    "\n",
    "Copyright © 2020 Qualex Consulting Services Incorporated."
   ]
  }
 ],
 "metadata": {
  "kernelspec": {
   "display_name": "Python 3",
   "language": "python",
   "name": "python3"
  },
  "language_info": {
   "codemirror_mode": {
    "name": "ipython",
    "version": 3
   },
   "file_extension": ".py",
   "mimetype": "text/x-python",
   "name": "python",
   "nbconvert_exporter": "python",
   "pygments_lexer": "ipython3",
   "version": "3.8.8"
  }
 },
 "nbformat": 4,
 "nbformat_minor": 4
}
